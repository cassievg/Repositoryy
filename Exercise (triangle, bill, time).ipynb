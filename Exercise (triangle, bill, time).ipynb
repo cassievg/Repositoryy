{
 "cells": [
  {
   "cell_type": "code",
   "execution_count": 21,
   "metadata": {},
   "outputs": [
    {
     "name": "stdout",
     "output_type": "stream",
     "text": [
      "Output: Valid and the perimeter is 9\n"
     ]
    }
   ],
   "source": [
    "x = int(input(\"Enter value for AB: \"))\n",
    "y = int(input(\"Enter value for BC: \"))\n",
    "z = int(input(\"Enter value for AC: \"))\n",
    "\n",
    "if (x+y)>=z and (x+z)>=y and (y+z)>=x:\n",
    "    print(\"Output: Valid and the perimeter is\",x+y+z)\n",
    "else:\n",
    "    print(\"Output: Invalid and the perimeter cannot be calculated\")"
   ]
  },
  {
   "cell_type": "code",
   "execution_count": 22,
   "metadata": {},
   "outputs": [
    {
     "name": "stdout",
     "output_type": "stream",
     "text": [
      "Tip amount per person: $2.00\n",
      "Total amount per person: $22.00\n"
     ]
    }
   ],
   "source": [
    "bill = float(input(\"Enter amount of bill: \"))\n",
    "num_of_people = int(input(\"Enter number of people: \"))\n",
    "tip = float(input(\"Enter amount of tip (%): \"))\n",
    "\n",
    "bill_amt = bill/num_of_people\n",
    "tip_perc = tip/100\n",
    "tip_amt = (tip_perc*bill)/num_of_people\n",
    "total = tip_amt+bill_amt\n",
    "\n",
    "final_tip =  f\"{tip_amt:.2f}\"\n",
    "final_total =  f\"{total:.2f}\"\n",
    "\n",
    "print(\"Tip amount per person:\", \"$\" + f\"{tip_amt:.2f}\")\n",
    "print(\"Total amount per person:\", \"$\" + f\"{total:.2f}\")"
   ]
  },
  {
   "cell_type": "code",
   "execution_count": 23,
   "metadata": {},
   "outputs": [
    {
     "name": "stdout",
     "output_type": "stream",
     "text": [
      "Results: 3:25:45\n"
     ]
    }
   ],
   "source": [
    "time = int(input(\"Enter the number of seconds: \"))\n",
    "\n",
    "hr = time//3600\n",
    "time = time-hr*3600\n",
    "min = time//60\n",
    "sec = time-min*60\n",
    "\n",
    "print(\"Results:\", str(hr) + \":\" + str(min) + \":\" + str(sec))"
   ]
  }
 ],
 "metadata": {
  "kernelspec": {
   "display_name": "Python 3",
   "language": "python",
   "name": "python3"
  },
  "language_info": {
   "codemirror_mode": {
    "name": "ipython",
    "version": 3
   },
   "file_extension": ".py",
   "mimetype": "text/x-python",
   "name": "python",
   "nbconvert_exporter": "python",
   "pygments_lexer": "ipython3",
   "version": "3.11.5"
  },
  "orig_nbformat": 4
 },
 "nbformat": 4,
 "nbformat_minor": 2
}
