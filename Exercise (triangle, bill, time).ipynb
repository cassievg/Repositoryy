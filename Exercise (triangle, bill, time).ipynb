{
 "cells": [
  {
   "cell_type": "code",
   "execution_count": 21,
   "metadata": {},
   "outputs": [
    {
     "name": "stdout",
     "output_type": "stream",
     "text": [
      "Output: Valid and the perimeter is 9\n"
     ]
    }
   ],
   "source": [
    "x = int(input(\"Enter value for AB: \"))\n",
    "y = int(input(\"Enter value for BC: \"))\n",
    "z = int(input(\"Enter value for AC: \"))\n",
    "\n",
    "if (x+y)>=z and (x+z)>=y and (y+z)>=x:\n",
    "    print(\"Output: Valid and the perimeter is\",x+y+z)\n",
    "else:\n",
    "    print(\"Output: Invalid and the perimeter cannot be calculated\")"
   ]
  },
  {
   "cell_type": "code",
   "execution_count": 22,
   "metadata": {},
   "outputs": [
    {
     "name": "stdout",
     "output_type": "stream",
     "text": [
      "Tip amount per person: $2.00\n",
      "Total amount per person: $22.00\n"
     ]
    }
   ],
   "source": [
    "bill = float(input(\"Enter amount of bill: \"))\n",
    "num_of_people = int(input(\"Enter number of people: \"))\n",
    "tip = float(input(\"Enter amount of tip (%): \"))\n",
    "\n",
    "bill_amt = bill/num_of_people\n",
    "tip_perc = tip/100\n",
    "tip_amt = (tip_perc*bill)/num_of_people\n",
    "total = tip_amt+bill_amt\n",
    "\n",
    "final_tip =  f\"{tip_amt:.2f}\"\n",
    "final_total =  f\"{total:.2f}\"\n",
    "\n",
    "print(\"Tip amount per person:\", \"$\" + f\"{tip_amt:.2f}\")\n",
    "print(\"Total amount per person:\", \"$\" + f\"{total:.2f}\")"
   ]
  },
  {
   "cell_type": "code",
   "execution_count": 23,
   "metadata": {},
   "outputs": [
    {
     "name": "stdout",
     "output_type": "stream",
     "text": [
      "Results: 3:25:45\n"
     ]
    }
   ],
   "source": [
    "time = int(input(\"Enter the number of seconds: \"))\n",
    "\n",
    "hr = time//3600\n",
    "time = time-hr*3600\n",
    "min = time//60\n",
    "sec = time-min*60\n",
    "\n",
    "print(\"Results:\", str(hr) + \":\" + str(min) + \":\" + str(sec))"
   ]
  },
  {
   "cell_type": "code",
   "execution_count": 3,
   "metadata": {},
   "outputs": [
    {
     "name": "stdout",
     "output_type": "stream",
     "text": [
      "['My', 'name', 'is', 'Kelly']\n"
     ]
    }
   ],
   "source": [
    "list1 = [\"M\", \"na\", \"i\", \"Ke\"]\n",
    "list2 = [\"y\", \"me\", \"s\", \"lly\"]\n",
    "\n",
    "list_final = []\n",
    "for i in range(len(list1)):\n",
    "    list_final.append(list1[i]+list2[i])\n",
    "\n",
    "print(list_final)"
   ]
  },
  {
   "cell_type": "code",
   "execution_count": 2,
   "metadata": {},
   "outputs": [
    {
     "name": "stdout",
     "output_type": "stream",
     "text": [
      "10 400\n",
      "20 300\n",
      "30 200\n",
      "40 100\n"
     ]
    }
   ],
   "source": [
    "list1 = [10,20,30,40]\n",
    "list2 = [100,200,300,400]\n",
    "\n",
    "for i in range(len(list1)):\n",
    "    print(list1[i],list2[len(list2)-i-1])"
   ]
  },
  {
   "cell_type": "code",
   "execution_count": 9,
   "metadata": {},
   "outputs": [
    {
     "name": "stdout",
     "output_type": "stream",
     "text": [
      "Hello Dear\n",
      "Hello Sir\n",
      "take Dear\n",
      "take Sir\n"
     ]
    }
   ],
   "source": [
    "list1 = [\"Hello\", \"take\"]\n",
    "list2 = [\"Dear\", \"Sir\"]\n",
    "\n",
    "for i in list1:\n",
    "    for j in list2:\n",
    "        print(i,j)"
   ]
  }
 ],
 "metadata": {
  "kernelspec": {
   "display_name": "Python 3",
   "language": "python",
   "name": "python3"
  },
  "language_info": {
   "codemirror_mode": {
    "name": "ipython",
    "version": 3
   },
   "file_extension": ".py",
   "mimetype": "text/x-python",
   "name": "python",
   "nbconvert_exporter": "python",
   "pygments_lexer": "ipython3",
   "version": "3.11.5"
  },
  "orig_nbformat": 4
 },
 "nbformat": 4,
 "nbformat_minor": 2
}
