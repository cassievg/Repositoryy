{
 "cells": [
  {
   "cell_type": "code",
   "execution_count": 17,
   "metadata": {},
   "outputs": [
    {
     "name": "stdout",
     "output_type": "stream",
     "text": [
      "Invalid\n"
     ]
    }
   ],
   "source": [
    "from string import ascii_letters\n",
    "\n",
    "def is_number(a):\n",
    "    return str(a).isnumeric()\n",
    "\n",
    "def is_alphabet(a):\n",
    "    return a in ascii_letters\n",
    "\n",
    "plateInput = input(\"Enter Plate: \")\n",
    "\n",
    "numSeq = False\n",
    "valid = True\n",
    "if 2<=len(plateInput)<=6:\n",
    "    for index, a in enumerate(str(plateInput)):\n",
    "        if is_number(a) and index==0:\n",
    "            valid = False\n",
    "            break\n",
    "        elif numSeq==False:\n",
    "            if is_number(a):\n",
    "                if a == \"0\":\n",
    "                    valid = False\n",
    "                    break\n",
    "                else:\n",
    "                    numSeq = True\n",
    "            elif not is_alphabet(a):\n",
    "                valid = False\n",
    "                break\n",
    "        else:\n",
    "            if not is_number(a):\n",
    "                valid = False\n",
    "                break\n",
    "    \n",
    "    if numSeq == False:\n",
    "        valid = False\n",
    "\n",
    "else:\n",
    "    valid = False\n",
    "\n",
    "if valid:\n",
    "    print(\"Valid\")\n",
    "else:\n",
    "    print(\"Invalid\")"
   ]
  },
  {
   "cell_type": "code",
   "execution_count": 10,
   "metadata": {},
   "outputs": [
    {
     "name": "stdout",
     "output_type": "stream",
     "text": [
      "Invalid\n"
     ]
    }
   ],
   "source": [
    "import re\n",
    "\n",
    "plateInput = input(\"Enter Plate: \")\n",
    "\n",
    "valid = True\n",
    "\n",
    "if 2<=len(plateInput)<=6:\n",
    "    if not re.match(\"^[A-Za-z]+[1-9][0-9]*$\", str(plateInput)):\n",
    "        valid = False\n",
    "else:\n",
    "    valid = False\n",
    "\n",
    "if valid:\n",
    "    print(\"Valid\")\n",
    "else:\n",
    "    print(\"Invalid\")"
   ]
  }
 ],
 "metadata": {
  "kernelspec": {
   "display_name": "Python 3",
   "language": "python",
   "name": "python3"
  },
  "language_info": {
   "codemirror_mode": {
    "name": "ipython",
    "version": 3
   },
   "file_extension": ".py",
   "mimetype": "text/x-python",
   "name": "python",
   "nbconvert_exporter": "python",
   "pygments_lexer": "ipython3",
   "version": "3.11.5"
  },
  "orig_nbformat": 4
 },
 "nbformat": 4,
 "nbformat_minor": 2
}
