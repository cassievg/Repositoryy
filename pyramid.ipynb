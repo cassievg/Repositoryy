{
 "cells": [
  {
   "cell_type": "code",
   "execution_count": 10,
   "metadata": {},
   "outputs": [
    {
     "name": "stdout",
     "output_type": "stream",
     "text": [
      "         #  #\n",
      "        ##  ##\n",
      "       ###  ###\n",
      "      ####  ####\n",
      "     #####  #####\n",
      "    ######  ######\n",
      "   #######  #######\n",
      "  ########  ########\n",
      " #########  #########\n",
      "##########  ##########\n"
     ]
    }
   ],
   "source": [
    "height = input(\"Height: \")\n",
    "height = int(height)\n",
    "\n",
    "if height >= 0:\n",
    "    for hgt in range(height):\n",
    "        space = ''\n",
    "        for lgtl in range(height-(hgt+1)):\n",
    "            space += ' '\n",
    "\n",
    "        chars = ''\n",
    "        for lgt in range(hgt+1):\n",
    "            chars += '#'\n",
    "        print(space + chars + \"  \" + chars)\n",
    "else:\n",
    "    print(\"Please enter a valid number!\")"
   ]
  },
  {
   "cell_type": "code",
   "execution_count": 11,
   "metadata": {},
   "outputs": [
    {
     "name": "stdout",
     "output_type": "stream",
     "text": [
      "         #  #\n",
      "        ##  ##\n",
      "       ###  ###\n",
      "      ####  ####\n",
      "     #####  #####\n",
      "    ######  ######\n",
      "   #######  #######\n",
      "  ########  ########\n",
      " #########  #########\n",
      "##########  ##########\n"
     ]
    }
   ],
   "source": [
    "height = input(\"Height: \")\n",
    "height = int(height)\n",
    "\n",
    "if height >= 0:\n",
    "    for hgt in range(height):\n",
    "        print(' ' * (height-hgt-1) + \"#\" * (hgt+1) + '  ' + \"#\" * (hgt+1))\n",
    "else:\n",
    "    print(\"Please enter a valid number!\")"
   ]
  },
  {
   "cell_type": "code",
   "execution_count": null,
   "metadata": {},
   "outputs": [],
   "source": []
  }
 ],
 "metadata": {
  "kernelspec": {
   "display_name": "Python 3",
   "language": "python",
   "name": "python3"
  },
  "language_info": {
   "codemirror_mode": {
    "name": "ipython",
    "version": 3
   },
   "file_extension": ".py",
   "mimetype": "text/x-python",
   "name": "python",
   "nbconvert_exporter": "python",
   "pygments_lexer": "ipython3",
   "version": "3.11.5"
  },
  "orig_nbformat": 4
 },
 "nbformat": 4,
 "nbformat_minor": 2
}
